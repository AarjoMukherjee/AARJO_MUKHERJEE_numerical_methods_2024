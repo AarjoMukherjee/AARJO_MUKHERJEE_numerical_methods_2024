{
 "cells": [
  {
   "cell_type": "markdown",
   "id": "2ce9fa3f",
   "metadata": {},
   "source": [
    "## Comments for Q1 to Q5"
   ]
  },
  {
   "cell_type": "markdown",
   "id": "323302bd",
   "metadata": {},
   "source": [
    "<span style=\"color: red;\"> \n",
    "\n",
    "Q1: 4/4\n",
    "\n",
    "Q2: 5/5\n",
    "\n",
    "Q3: 14/15 – didn’t mention used log scale in axis label\n",
    "\n",
    "Q4: 19/20 – no documentation\n",
    "\n",
    "Q5:  5/5 \n",
    "\n",
    " </span>"
   ]
  },
  {
   "cell_type": "markdown",
   "id": "65bfba67-769e-46ab-aa1c-c268a974042e",
   "metadata": {},
   "source": [
    "## Answer 6."
   ]
  },
  {
   "cell_type": "code",
   "execution_count": 4,
   "id": "9f31a677-d5f0-4a18-ad69-21c148142b0d",
   "metadata": {},
   "outputs": [
    {
     "name": "stdout",
     "output_type": "stream",
     "text": [
      "Enter a positive integer:  5\n"
     ]
    },
    {
     "name": "stdout",
     "output_type": "stream",
     "text": [
      "The Factorial of the number is 120\n"
     ]
    }
   ],
   "source": [
    "## 6.1\n",
    "def factorial(n): \n",
    "    fact = 1\n",
    "    for i in range (1,(n+1)):\n",
    "        fact = fact * i\n",
    "    return fact\n",
    "\n",
    "#n = int(input(\"Enter a positive integer: \"))\n",
    "#print(f\"The Factorial of the number is {factorial(n)}\")"
   ]
  },
  {
   "cell_type": "markdown",
   "id": "ba6574bf",
   "metadata": {},
   "source": [
    "## <span style=\"color: red;\"> 5 </span>"
   ]
  },
  {
   "cell_type": "code",
   "execution_count": 16,
   "id": "919897d3-bd40-4a67-b5a1-0ed5f969acd3",
   "metadata": {},
   "outputs": [
    {
     "name": "stdout",
     "output_type": "stream",
     "text": [
      "2.7182818284590455\n"
     ]
    }
   ],
   "source": [
    "## 6.2\n",
    "def exp_brute(x):\n",
    "    ans = 1\n",
    "    diff = 1\n",
    "    n = 1\n",
    "    while(diff>0):\n",
    "        prev_ans = ans \n",
    "        term = (x**n)/factorial(n)\n",
    "        ans = ans + term\n",
    "        diff = ans - prev_ans\n",
    "        n = n + 1\n",
    "    return ans\n",
    "\n",
    "print(exp_brute(1))"
   ]
  },
  {
   "cell_type": "markdown",
   "id": "21365bc7",
   "metadata": {},
   "source": [
    "## <span style=\"color: red;\"> 8</span>"
   ]
  },
  {
   "cell_type": "code",
   "execution_count": 17,
   "id": "f3894a9f-8367-4473-a023-e9d5e775057a",
   "metadata": {},
   "outputs": [
    {
     "name": "stdout",
     "output_type": "stream",
     "text": [
      "Time taken for e^0.1 = 3.814697265625e-05\n",
      "Time taken for e^20 = 0.0003936290740966797\n"
     ]
    }
   ],
   "source": [
    "## 6.3\n",
    "import time\n",
    "for x in [0.1,20]:\n",
    "    start_time = time.time()\n",
    "    result = exp_brute(x)\n",
    "    end_time = time.time()\n",
    "    \n",
    "    t_diff = end_time - start_time\n",
    "    print(f\"Time taken for e^{x} = {t_diff}\")"
   ]
  },
  {
   "cell_type": "markdown",
   "id": "5cc35f99",
   "metadata": {},
   "source": [
    "## <span style=\"color: red;\"> 2 </span>"
   ]
  },
  {
   "cell_type": "code",
   "execution_count": 1,
   "id": "7bc581a1-278f-401f-9abd-4aacdcc4414e",
   "metadata": {},
   "outputs": [
    {
     "name": "stdout",
     "output_type": "stream",
     "text": [
      "Result: 485165195.40979046\n",
      "Series Terms: [20.0, 200.0, 1333.3333333333335, 6666.666666666668, 26666.66666666667, 88888.8888888889, 253968.25396825402, 634920.634920635, 1410934.744268078, 2821869.488536156, 5130671.797338465, 8551119.662230777, 13155568.711124273, 18793669.58732039, 25058226.116427187, 31322782.645533983, 36850332.52415763, 40944813.9157307, 43099804.12182178, 43099804.12182178, 41047432.49697313, 37315847.724521026, 32448563.238713935, 27040469.365594946, 21632375.492475957, 16640288.840366121, 12326139.881752681, 8804385.629823344, 6071990.089533341, 4047993.393022227, 2611608.6406595013, 1632255.4004121884, 989245.6972195081, 581909.2336585342, 332519.562090591, 184733.09005032835, 99855.72435152884, 52555.644395541494, 26951.612510534098, 13475.806255267049, 6573.564026959536, 3130.2685842664455, 1455.938876402998, 661.7903983649991, 294.1290659399996, 127.88220258260851, 54.41795854579086, 22.674149394079524, 9.254754854726336, 3.701901941890535, 1.4517262517217784, 0.5583562506622225, 0.2107004719480085, 0.07803721183259574, 0.028377167939125723, 0.010134702835402045, 0.0035560360825972084, 0.0012262193388266236, 0.0004156675724836012, 0.00013855585749453372, 4.542814999820777e-05, 1.4654241934905732e-05, 4.65214029679547e-06, 1.4537938427485845e-06, 4.4732118238417985e-07, 1.3555187344975148e-07, 4.046324580589596e-08, 1.1900954648792928e-08]\n",
      "Cumulative Series: [1, 21.0, 221.0, 1554.3333333333335, 8221.000000000002, 34887.66666666667, 123776.55555555558, 377744.8095238096, 1012665.4444444446, 2423600.1887125224, 5245469.677248678, 10376141.474587142, 18927261.136817917, 32082829.84794219, 50876499.435262576, 75934725.55168976, 107257508.19722374, 144107840.72138137, 185052654.63711208, 228152458.75893387, 271252262.88075566, 312299695.3777288, 349615543.10224986, 382064106.3409638, 409104575.7065587, 430736951.1990347, 447377240.0394008, 459703379.9211535, 468507765.5509768, 474579755.64051014, 478627749.0335324, 481239357.6741919, 482871613.0746041, 483860858.7718236, 484442768.00548214, 484775287.5675727, 484960020.65762305, 485059876.3819746, 485112432.0263701, 485139383.63888067, 485152859.44513595, 485159433.0091629, 485162563.27774715, 485164019.21662354, 485164681.0070219, 485164975.13608783, 485165103.0182904, 485165157.43624896, 485165180.11039835, 485165189.3651532, 485165193.0670551, 485165194.51878136, 485165195.0771376, 485165195.28783804, 485165195.36587524, 485165195.3942524, 485165195.4043871, 485165195.4079431, 485165195.4091694, 485165195.40958506, 485165195.40972364, 485165195.40976906, 485165195.4097837, 485165195.40978837, 485165195.4097898, 485165195.4097903, 485165195.4097904, 485165195.40979046]\n"
     ]
    }
   ],
   "source": [
    "## 6.4\n",
    "def exp_rec(x):\n",
    "    ans = 1\n",
    "    term = 1\n",
    "    diff = 1\n",
    "    n = 1\n",
    "    terms = []\n",
    "    cumulative = []\n",
    "    while(abs(diff)>0):\n",
    "        prev_ans = ans\n",
    "        cumulative.append(ans)\n",
    "        term = term * (x/n)\n",
    "        terms.append(term)\n",
    "        ans = ans + term\n",
    "        diff = ans - prev_ans\n",
    "        n = n + 1\n",
    "    return ans, terms, cumulative\n",
    "\n",
    "result, terms, cumulative  = exp_rec(20)\n",
    "print(f\"Result: {result}\")\n",
    "print(f\"Series Terms: {terms}\")\n",
    "print(f\"Cumulative Series: {cumulative}\")"
   ]
  },
  {
   "cell_type": "markdown",
   "id": "93e388fd",
   "metadata": {},
   "source": [
    "## <span style=\"color: red;\"> 10 </span>"
   ]
  },
  {
   "cell_type": "markdown",
   "id": "8747b206",
   "metadata": {},
   "source": []
  },
  {
   "cell_type": "code",
   "execution_count": 19,
   "id": "f61d93b9-4e8e-4e8c-93c7-3c363b930d15",
   "metadata": {},
   "outputs": [
    {
     "name": "stdout",
     "output_type": "stream",
     "text": [
      "Time taken for e^0.1 = 1.1920928955078125e-05\n",
      "Time taken for e^20 = 2.956390380859375e-05\n"
     ]
    }
   ],
   "source": [
    "## 6.5\n",
    "import time\n",
    "for x in [0.1,20]:\n",
    "    start_time = time.time()\n",
    "    result = exp_rec(x)\n",
    "    end_time = time.time()\n",
    "    \n",
    "    t_diff = end_time - start_time\n",
    "    print(f\"Time taken for e^{x} = {t_diff}\")"
   ]
  },
  {
   "cell_type": "markdown",
   "id": "82784cd9",
   "metadata": {},
   "source": [
    "## <span style=\"color: red;\"> 2 </span>"
   ]
  },
  {
   "cell_type": "markdown",
   "id": "2806393c-ddc4-4d7f-9284-298af8dcaa32",
   "metadata": {},
   "source": [
    "exp_rec evaluates much faster than exp_brute for larger values of x"
   ]
  },
  {
   "cell_type": "code",
   "execution_count": 30,
   "id": "f42c1fd8-5c99-4090-8eba-52f3255cd32b",
   "metadata": {},
   "outputs": [
    {
     "name": "stdout",
     "output_type": "stream",
     "text": [
      "Numpy exp(0.1): 1.1051709180756477\n",
      "Brute Force exp(0.1): 1.1051709180756473\n",
      "Recursion exp(0.1): 1.1051709180756473\n",
      "\n",
      "Numpy exp(20): 485165195.4097903\n",
      "Brute Force exp(20): 485165195.40979016\n",
      "Recursion exp(20): 485165195.40979046\n"
     ]
    }
   ],
   "source": [
    "## 6.6\n",
    "import numpy as np\n",
    "print(f\"Numpy exp(0.1): {np.exp(0.1)}\")\n",
    "print(f\"Brute Force exp(0.1): {(exp_brute(0.1))}\")\n",
    "print(f\"Recursion exp(0.1): {exp_rec(0.1)[0]}\")\n",
    "print(\"\")\n",
    "print(f\"Numpy exp(20): {np.exp(20)}\")\n",
    "print(f\"Brute Force exp(20): {exp_brute(20)}\")\n",
    "print(f\"Recursion exp(20): {exp_rec(20)[0]}\")"
   ]
  },
  {
   "cell_type": "markdown",
   "id": "43bb3bc0-4141-4924-ad40-d36376503a10",
   "metadata": {},
   "source": [
    "For both cases we see discrepancy occurs for the 16th digit"
   ]
  },
  {
   "cell_type": "markdown",
   "id": "dad3bac8",
   "metadata": {},
   "source": [
    "## <span style=\"color: red;\"> 1  for exp(20) discepency starts after 6 decimal digits</span>"
   ]
  },
  {
   "cell_type": "code",
   "execution_count": 39,
   "id": "aa8fe66a-f8f2-4997-9739-5d5004c5af2e",
   "metadata": {},
   "outputs": [
    {
     "data": {
      "text/plain": [
       "Text(0, 0.5, '$X_{N}$')"
      ]
     },
     "execution_count": 39,
     "metadata": {},
     "output_type": "execute_result"
    },
    {
     "data": {
      "image/png": "[encoded data removed]",
      "text/plain": [
       "<Figure size 640x480 with 1 Axes>"
      ]
     },
     "metadata": {},
     "output_type": "display_data"
    }
   ],
   "source": [
    "## 6.7\n",
    "res, terms, _ = exp_rec(20)\n",
    "nArr = np.linspace(0,len(terms),len(terms))\n",
    "plt.plot(nArr, terms)\n",
    "plt.title(\"Series Terms vs N\")\n",
    "plt.xlabel(\"N\")\n",
    "plt.ylabel(\"$X_{N}$\")"
   ]
  },
  {
   "cell_type": "markdown",
   "id": "c6117999-5df6-40c3-8214-7d0c7daed66a",
   "metadata": {},
   "source": [
    "The turning point is approximately around n=19"
   ]
  },
  {
   "cell_type": "markdown",
   "id": "d482a74e",
   "metadata": {},
   "source": [
    "## <span style=\"color: red;\"> 8 you have to show each point and please make plot beautiful use grid ,scatter plot , legend </span>"
   ]
  },
  {
   "cell_type": "code",
   "execution_count": 51,
   "id": "0222bcb1-071e-4b14-b8e2-4859d8f4dda7",
   "metadata": {},
   "outputs": [
    {
     "name": "stdout",
     "output_type": "stream",
     "text": [
      "Numpy exp(-20): 2.061153622438558e-09\n",
      "Recursion exp(-20): 6.147561828914626e-09\n",
      "Accuracy: 1.9825830360191323\n"
     ]
    }
   ],
   "source": [
    "## 6.8\n",
    "\n",
    "print(f\"Numpy exp(-20): {np.exp(-20)}\")\n",
    "print(f\"Recursion exp(-20): {exp_rec(-20)[0]}\")\n",
    "error = (exp_rec(-20)[0]-np.exp(-20))/np.exp(-20)\n",
    "print(f\"Error: {error}\")"
   ]
  },
  {
   "cell_type": "markdown",
   "id": "256b044d-778b-4cf6-a6c3-406aea43f3e3",
   "metadata": {},
   "source": [
    "If Numpy is assumed to be correct then the recursion function gives a value 198% more than the true value.\n",
    "This can be understood with the following plot"
   ]
  },
  {
   "cell_type": "markdown",
   "id": "3d731b7b",
   "metadata": {},
   "source": []
  },
  {
   "cell_type": "code",
   "execution_count": 58,
   "id": "f29a5261-2522-478f-aeda-71adede4e12e",
   "metadata": {},
   "outputs": [
    {
     "data": {
      "text/plain": [
       "Text(0, 0.5, '$C_{N}$')"
      ]
     },
     "execution_count": 58,
     "metadata": {},
     "output_type": "execute_result"
    },
    {
     "data": {
      "image/png": "[encoded data removed]",
      "text/plain": [
       "<Figure size 640x480 with 1 Axes>"
      ]
     },
     "metadata": {},
     "output_type": "display_data"
    }
   ],
   "source": [
    "res, _, cumulative = exp_rec(-20)\n",
    "nArr = np.linspace(0,len(cumulative),len(cumulative))\n",
    "plt.plot(nArr, cumulative)\n",
    "plt.title(\"Partial Sums vs N\")\n",
    "plt.xlabel(\"N\")\n",
    "plt.ylabel(\"$C_{N}$\")"
   ]
  },
  {
   "cell_type": "markdown",
   "id": "8a293427-1b11-4c05-b1d1-859e00feb001",
   "metadata": {},
   "source": [
    "The partial sums of the series fluctuates a lot between very large values, taking the difference starts to introduce catastrophic cancellation errors, thereby giving us a poor result"
   ]
  },
  {
   "cell_type": "markdown",
   "id": "54aa389f",
   "metadata": {},
   "source": [
    "\n",
    "## <span style=\"color: red;\"> 9 elaborate more </span>\n",
    "## Reason\n",
    "The magnitude of  $𝑥^n$ decreases rapidly as  n increases, making terms very small, close to machine precision.\n",
    "\n",
    "Each term $ \\frac{x^n}{n!} $ requires computing $ x^n $ and $ n! $, which grow or shrink rapidly.\n",
    "\n",
    "For $ x = -20 $, the factorial $ n! $ grows exponentially, while $ x^n $ decreases quickly, resulting in **numerical underflow**. This limits the accuracy of the sum.\n",
    "\n",
    "\n"
   ]
  },
  {
   "cell_type": "code",
   "execution_count": 59,
   "id": "8088c5b1-f338-4126-87c7-e35494a591b3",
   "metadata": {},
   "outputs": [
    {
     "name": "stdout",
     "output_type": "stream",
     "text": [
      "Numpy exp(-20): 2.061153622438558e-09\n",
      "Recursion exp(-20): 2.061153622438557e-09\n",
      "Error: -4.013192435284797e-16\n"
     ]
    }
   ],
   "source": [
    "## 6.9\n",
    "\n",
    "res, _, _  = exp_rec(20)\n",
    "result = 1/res\n",
    "print(f\"Numpy exp(-20): {np.exp(-20)}\")\n",
    "print(f\"Recursion exp(-20): {result}\")\n",
    "error = (result-np.exp(-20))/np.exp(-20)\n",
    "print(f\"Error: {error}\")"
   ]
  },
  {
   "cell_type": "markdown",
   "id": "68f59d9b-88d6-4287-868b-e48cf7ea18ec",
   "metadata": {},
   "source": [
    "Since negative values of exponent brought fluctuations in signs of partial sums, a better way to use the function would be to make use of the fact\n",
    "\n",
    "$e^{-x} = \\dfrac{1}{e^x}$\n",
    "\n",
    "Doing this gives us a much better result with a very low error"
   ]
  },
  {
   "cell_type": "markdown",
   "id": "0be79066",
   "metadata": {},
   "source": [
    "## <span style=\"color: red;\"> 2 </span>"
   ]
  },
  {
   "cell_type": "markdown",
   "id": "6df6867c",
   "metadata": {},
   "source": []
  }
 ],
 "metadata": {
  "kernelspec": {
   "display_name": "shear_env",
   "language": "python",
   "name": "python3"
  },
  "language_info": {
   "codemirror_mode": {
    "name": "ipython",
    "version": 3
   },
   "file_extension": ".py",
   "mimetype": "text/x-python",
   "name": "python",
   "nbconvert_exporter": "python",
   "pygments_lexer": "ipython3",
   "version": "3.9.20"
  }
 },
 "nbformat": 4,
 "nbformat_minor": 5
}
